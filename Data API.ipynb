{
 "cells": [
  {
   "cell_type": "code",
   "execution_count": 1,
   "id": "96240e8c",
   "metadata": {},
   "outputs": [],
   "source": [
    "from flask import Flask, request, jsonify"
   ]
  },
  {
   "cell_type": "code",
   "execution_count": 2,
   "id": "d1d8ffb6",
   "metadata": {},
   "outputs": [],
   "source": [
    "app = Flask(__name__)"
   ]
  },
  {
   "cell_type": "code",
   "execution_count": 3,
   "id": "e72feff8",
   "metadata": {},
   "outputs": [],
   "source": [
    "# Get all companies’ stock data for a particular day(input api would be date)\n",
    "@app.route('/stocks/<string:date>', methods=['GET'])\n",
    "def get_all_stock_data_by_date(date):\n",
    "    # stock_data = {\n",
    "         #'date': date,\n",
    "        #'companies': [\n",
    "           # {\n",
    "            #    'name': 'IBM',\n",
    "            #    'price': 100.0\n",
    "            #},\n",
    "            #{\n",
    "            #    'name': 'AAPL',\n",
    "            #    'price': 200.0\n",
    "           # },\n",
    "            #{\n",
    "            #    'name': 'GOOG',\n",
    "            #    'price': 300.0\n",
    "           # }\n",
    "       # ]\n",
    "    #}\n",
    "# Here, you can fetch the stock data for all companies on the given date from the database\n",
    "# and return it as a JSON response\n",
    "   return jsonify(stock_data)\n",
    "#if __name__ == '__main__':\n",
    "    #app.run(debug=True)"
   ]
  },
  {
   "cell_type": "code",
   "execution_count": 4,
   "id": "042808e2",
   "metadata": {},
   "outputs": [],
   "source": [
    "# Get all stock data for a particular company for a particular day(input to API would be company ID/name and date)\n",
    "@app.route('/stocks/<string:company>/<string:date>', methods=['GET'])\n",
    "def get_stock_data_by_company_and_date(company, date):\n",
    "     # stock_data = {\n",
    "        #'company': company,\n",
    "        #'date': date,\n",
    "       # 'price': 100.0\n",
    "   # }\n",
    "    \n",
    "# Here, you can fetch the stock data for the given company on the given date from the database\n",
    "# and return it as a JSON response\n",
    "    return jsonify(stock_data)\n",
    "# if __name__ == '__main__':\n",
    "    # app.run(debug=True)"
   ]
  },
  {
   "cell_type": "code",
   "execution_count": 5,
   "id": "cab59998",
   "metadata": {},
   "outputs": [],
   "source": [
    "# Get all stock data for a particular company(input to API would be company ID)\n",
    "@app.route('/stocks/<string:company>', methods=['GET'])\n",
    "def get_stock_data_by_company(company):\n",
    "# Here, you can fetch all the stock data for the given company from the database\n",
    "# and return it as a JSON response\n",
    "    return jsonify(stock_data)"
   ]
  },
  {
   "cell_type": "code",
   "execution_count": 6,
   "id": "36e7eb68",
   "metadata": {},
   "outputs": [],
   "source": [
    "# POST/Patch API to update stock data for a company by date\n",
    "@app.route('/stocks/<string:company>/<string:date>', methods=['POST', 'PATCH'])\n",
    "def update_stock_data(company, date):\n",
    "           # Here, you can update the stock data for the given company on the given date in the database\n",
    "\n",
    "# based on the data received in the request body and return a success message as a JSON response\n",
    "     return jsonify({'message': 'Stock data updated successfully'})"
   ]
  },
  {
   "cell_type": "code",
   "execution_count": null,
   "id": "0b9c1a8b",
   "metadata": {},
   "outputs": [],
   "source": []
  }
 ],
 "metadata": {
  "kernelspec": {
   "display_name": "Python 3 (ipykernel)",
   "language": "python",
   "name": "python3"
  },
  "language_info": {
   "codemirror_mode": {
    "name": "ipython",
    "version": 3
   },
   "file_extension": ".py",
   "mimetype": "text/x-python",
   "name": "python",
   "nbconvert_exporter": "python",
   "pygments_lexer": "ipython3",
   "version": "3.9.12"
  }
 },
 "nbformat": 4,
 "nbformat_minor": 5
}
